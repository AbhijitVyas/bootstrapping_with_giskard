{
 "cells": [
  {
   "cell_type": "code",
   "execution_count": 13,
   "id": "82678035-d523-48aa-b271-78c8658ed34d",
   "metadata": {
    "execution": {
     "iopub.execute_input": "2024-02-08T15:41:22.707788Z",
     "iopub.status.busy": "2024-02-08T15:41:22.706835Z",
     "iopub.status.idle": "2024-02-08T15:41:22.712913Z",
     "shell.execute_reply": "2024-02-08T15:41:22.711834Z",
     "shell.execute_reply.started": "2024-02-08T15:41:22.707744Z"
    }
   },
   "outputs": [],
   "source": [
    "# import os\n",
    "# os.chdir('../../')"
   ]
  },
  {
   "cell_type": "code",
   "execution_count": 5,
   "id": "f9ab6db9",
   "metadata": {
    "execution": {
     "iopub.execute_input": "2024-02-09T06:27:11.065141Z",
     "iopub.status.busy": "2024-02-09T06:27:11.064871Z",
     "iopub.status.idle": "2024-02-09T06:27:11.607423Z",
     "shell.execute_reply": "2024-02-09T06:27:11.606814Z",
     "shell.execute_reply.started": "2024-02-09T06:27:11.065123Z"
    }
   },
   "outputs": [
    {
     "name": "stdout",
     "output_type": "stream",
     "text": [
      "RASA uninstalled\n"
     ]
    }
   ],
   "source": [
    "# import subprocess\n",
    "# bash_install = \"pip uninstall rasa -y\"\n",
    "# process = subprocess.run(bash_install, shell=True, capture_output=True, text=True)\n",
    "# # process = subprocess.Popen(bash_install, shell=True, stdout=subprocess.PIPE, stderr=subprocess.STDOUT, text=True)\n",
    "# # for line in iter(process.stdout.readline, ''):\n",
    "#   # print(line, end='')\n",
    "#     # print()\n",
    "# print(\"RASA uninstalled\")"
   ]
  },
  {
   "cell_type": "code",
   "execution_count": 5,
   "id": "0ed0931a-9747-46dd-adb7-90301ed9e38a",
   "metadata": {
    "execution": {
     "iopub.execute_input": "2024-02-09T09:42:28.266153Z",
     "iopub.status.busy": "2024-02-09T09:42:28.265869Z",
     "iopub.status.idle": "2024-02-09T09:42:29.489293Z",
     "shell.execute_reply": "2024-02-09T09:42:29.488562Z",
     "shell.execute_reply.started": "2024-02-09T09:42:28.266135Z"
    }
   },
   "outputs": [],
   "source": [
    "# payload = {\"sender\": \"Rasa\", \"text\": \"pour water into bowl\"}\n",
    "# headers = {'content-type': 'application/json'}\n",
    "# response = requests.post('http://localhost:5005/model/parse', json=payload, headers=headers)\n",
    "# rasa_output = response.json()\n",
    "# intents = rasa_output['intent']['name']"
   ]
  },
  {
   "cell_type": "code",
   "execution_count": null,
   "id": "e2408a91-01b5-4b18-ae48-d4000b23bd7b",
   "metadata": {},
   "outputs": [],
   "source": []
  },
  {
   "cell_type": "code",
   "execution_count": 4,
   "id": "90e23ef5-76ee-4ea8-8698-9449d4b0238c",
   "metadata": {
    "execution": {
     "iopub.execute_input": "2024-02-09T09:41:01.180117Z",
     "iopub.status.busy": "2024-02-09T09:41:01.179311Z",
     "iopub.status.idle": "2024-02-09T09:41:01.191151Z",
     "shell.execute_reply": "2024-02-09T09:41:01.190118Z",
     "shell.execute_reply.started": "2024-02-09T09:41:01.180079Z"
    }
   },
   "outputs": [
    {
     "name": "stdout",
     "output_type": "stream",
     "text": [
      "Rasa command\n",
      "/opt/conda/lib/python3.10/site-packages/rasa/shared/utils/validation.py:134: DeprecationWarning: pkg_resources is deprecated as an API. See https://setuptools.pypa.io/en/latest/pkg_resources.html\n",
      "  import pkg_resources\n",
      "/opt/conda/lib/python3.10/site-packages/pkg_resources/__init__.py:2868: DeprecationWarning: Deprecated call to `pkg_resources.declare_namespace('mpl_toolkits')`.\n",
      "Implementing implicit namespace packages (as specified in PEP 420) is preferred to `pkg_resources.declare_namespace`. See https://setuptools.pypa.io/en/latest/references/keywords.html#keyword-namespace-packages\n",
      "  declare_namespace(pkg)\n",
      "/opt/conda/lib/python3.10/site-packages/pkg_resources/__init__.py:2868: DeprecationWarning: Deprecated call to `pkg_resources.declare_namespace('ruamel')`.\n",
      "Implementing implicit namespace packages (as specified in PEP 420) is preferred to `pkg_resources.declare_namespace`. See https://setuptools.pypa.io/en/latest/references/keywords.html#keyword-namespace-packages\n",
      "  declare_namespace(pkg)\n",
      "/opt/conda/lib/python3.10/site-packages/pkg_resources/__init__.py:2868: DeprecationWarning: Deprecated call to `pkg_resources.declare_namespace('ruamel.yaml')`.\n",
      "Implementing implicit namespace packages (as specified in PEP 420) is preferred to `pkg_resources.declare_namespace`. See https://setuptools.pypa.io/en/latest/references/keywords.html#keyword-namespace-packages\n",
      "  declare_namespace(pkg)\n",
      "/opt/conda/lib/python3.10/site-packages/pkg_resources/__init__.py:2868: DeprecationWarning: Deprecated call to `pkg_resources.declare_namespace('zope')`.\n",
      "Implementing implicit namespace packages (as specified in PEP 420) is preferred to `pkg_resources.declare_namespace`. See https://setuptools.pypa.io/en/latest/references/keywords.html#keyword-namespace-packages\n",
      "  declare_namespace(pkg)\n",
      "/opt/conda/lib/python3.10/site-packages/sanic_cors/extension.py:39: DeprecationWarning: distutils Version classes are deprecated. Use packaging.version instead.\n",
      "  SANIC_VERSION = LooseVersion(sanic_version)\n",
      "/opt/conda/lib/python3.10/site-packages/keras/engine/data_adapter.py:44: DeprecationWarning: \n",
      "Pyarrow will become a required dependency of pandas in the next major release of pandas (pandas 3.0),\n",
      "(to allow more performant data types, such as the Arrow string type, and better interoperability with other libraries)\n",
      "but was not found to be installed on your system.\n",
      "If this would cause problems for you,\n",
      "please provide us feedback at https://github.com/pandas-dev/pandas/issues/54466\n",
      "        \n",
      "  import pandas as pd\n",
      "Some weights of the PyTorch model were not used when initializing the TF 2.0 model TFBertModel: ['cls.predictions.transform.LayerNorm.bias', 'cls.predictions.transform.dense.weight', 'cls.seq_relationship.bias', 'cls.seq_relationship.weight', 'cls.predictions.transform.dense.bias', 'cls.predictions.transform.LayerNorm.weight', 'cls.predictions.bias']\n",
      "- This IS expected if you are initializing TFBertModel from a PyTorch model trained on another task or with another architecture (e.g. initializing a TFBertForSequenceClassification model from a BertForPreTraining model).\n",
      "- This IS NOT expected if you are initializing TFBertModel from a PyTorch model that you expect to be exactly identical (e.g. initializing a TFBertForSequenceClassification model from a BertForSequenceClassification model).\n",
      "All the weights of TFBertModel were initialized from the PyTorch model.\n",
      "If your task is similar to the task the model of the checkpoint was trained on, you can already use TFBertModel for predictions without further training.\n"
     ]
    }
   ],
   "source": [
    "# import requests\n",
    "# from threading import Thread\n",
    "# import subprocess\n",
    "# import os\n",
    "# import time\n",
    "# flag = True\n",
    "\n",
    "# try:\n",
    "#     import rasa\n",
    "# except ImportError:\n",
    "#     print(\"RASA package does not exist\")\n",
    "#     print('Installing RASA')\n",
    "#     rasa_command = \"pip install -q rasa\"\n",
    "#     # process = subprocess.run(rasa_command, shell=True, capture_output=True, text=True)\n",
    "#     process = subprocess.Popen(rasa_command, shell=True, stdout=subprocess.PIPE, stderr=subprocess.STDOUT, text=True)\n",
    "#     for line in iter(process.stdout.readline, ''):\n",
    "#         print(line, end='')\n",
    "#     import rasa\n",
    "#     print(\"RASA installed and Imported\")\n",
    "    \n",
    "# def run_bash_command(command):\n",
    "#     # process = subprocess.run(command, shell=True, capture_output=True, text=True)\n",
    "#     # print(\"Rasa command\")\n",
    "#     process = subprocess.Popen(command, shell=True, stdout=subprocess.PIPE, stderr=subprocess.STDOUT, text=True)\n",
    "#     print('Starting RASA Server',end='')\n",
    "#     for line in iter(process.stdout.readline, ''):\n",
    "#         # print(line, end='')\n",
    "#         if 'up and running' in line:\n",
    "#           break\n",
    "#     # print(\"Rasa Server is UP AND RUNNING\")\n",
    "#     global flag\n",
    "#     flag = False\n",
    "    \n",
    "# if __name__ == '__main__':\n",
    "\n",
    "#     # Define your Bash command\n",
    "#     bash_command = \"rasa run --enable-api\"\n",
    "    \n",
    "#     # Start Flask app in a separate thread\n",
    "#     bash_thread = Thread(target=run_bash_command, args=(bash_command,))\n",
    "#     bash_thread.start()\n",
    "    \n",
    "#     while True:\n",
    "#         time.sleep(3)\n",
    "#         if not flag:\n",
    "#             print('SERVER READY')\n",
    "#             break\n",
    "#         else:\n",
    "#             print(\".\",end='')"
   ]
  },
  {
   "cell_type": "code",
   "execution_count": 12,
   "id": "48ac262b-bf90-476d-80a8-583c0cff504b",
   "metadata": {
    "execution": {
     "iopub.execute_input": "2024-02-09T09:45:43.170404Z",
     "iopub.status.busy": "2024-02-09T09:45:43.170152Z",
     "iopub.status.idle": "2024-02-09T09:45:43.180172Z",
     "shell.execute_reply": "2024-02-09T09:45:43.179801Z",
     "shell.execute_reply.started": "2024-02-09T09:45:43.170387Z"
    }
   },
   "outputs": [
    {
     "data": {
      "application/vnd.jupyter.widget-view+json": {
       "model_id": "33d5710a10f74bfc8eef1e94300b726a",
       "version_major": 2,
       "version_minor": 0
      },
      "text/plain": [
       "Text(value='', description='Enter text:')"
      ]
     },
     "metadata": {},
     "output_type": "display_data"
    },
    {
     "data": {
      "application/vnd.jupyter.widget-view+json": {
       "model_id": "c553455f97e743f6adbc6c45af8d8792",
       "version_major": 2,
       "version_minor": 0
      },
      "text/plain": [
       "Button(description='Submit', style=ButtonStyle())"
      ]
     },
     "metadata": {},
     "output_type": "display_data"
    }
   ],
   "source": [
    "# import ipywidgets as widgets\n",
    "# from IPython.display import display\n",
    "# import json\n",
    "# import requests\n",
    "# import sys\n",
    "# import os\n",
    "# from scripts.preprocessors import preprocessing\n",
    "# from scripts.postprocessings import postprocess\n",
    "\n",
    "# RASA_parse = {}\n",
    "# out = widgets.Output()\n",
    "\n",
    "# # Define a function that will be called when the button is clicked\n",
    "# def handle_submit(sender):\n",
    "#     with out:\n",
    "#         print(\"User input:\", text.value)\n",
    "#     preoutput = preprocessing(text.value)\n",
    "\n",
    "#     payload = {\"sender\": \"Rasa\", \"text\": text.value}\n",
    "#     headers = {'content-type': 'application/json'}\n",
    "#     response = requests.post('http://localhost:5005/model/parse', json=payload, headers=headers)\n",
    "#     rasa_output = response.json()\n",
    "#     intents = rasa_output['intent']['name']\n",
    "\n",
    "#     final = postprocess(rasa_output,preoutput)\n",
    "\n",
    "#     output = final.print_params()\n",
    "\n",
    "#     RASA_parse['intent'] = intents\n",
    "#     RASA_parse['source'] = output['source']\n",
    "#     RASA_parse['destination'] = output['destination']\n",
    "#     RASA_parse['substance'] = output['substance']\n",
    "#     RASA_parse['amount'] = output['amount']\n",
    "#     RASA_parse['units'] = output['units']\n",
    "#     RASA_parse['motion'] = output['motion']\n",
    "#     RASA_parse['action_verb'] = output['action_verb']\n",
    "#     RASA_parse['goal'] = output['goal']\n",
    "\n",
    "#     with out:\n",
    "#         print(\"Instruction Info: \", RASA_parse)\n",
    "    \n",
    "# # Create a text input widget\n",
    "# text = widgets.Text(description=\"Enter text:\")\n",
    "\n",
    "# # Create a button widget\n",
    "# button = widgets.Button(description=\"Submit\")\n",
    "\n",
    "# # Attach the handle_submit function to the button's click event\n",
    "# button.on_click(handle_submit)\n",
    "\n",
    "# # Display the widgets\n",
    "# display(text)\n",
    "# display(button)\n",
    "# display(out)"
   ]
  },
  {
   "cell_type": "code",
   "execution_count": null,
   "id": "13a2b559",
   "metadata": {},
   "outputs": [],
   "source": [
    "%run start_rasa.py"
   ]
  },
  {
   "cell_type": "code",
   "execution_count": null,
   "id": "41352a49",
   "metadata": {},
   "outputs": [],
   "source": [
    "%run query_rasa.py"
   ]
  }
 ],
 "metadata": {
  "kernelspec": {
   "display_name": "Python 3 (ipykernel)",
   "language": "python",
   "name": "python3"
  },
  "language_info": {
   "codemirror_mode": {
    "name": "ipython",
    "version": 3
   },
   "file_extension": ".py",
   "mimetype": "text/x-python",
   "name": "python",
   "nbconvert_exporter": "python",
   "pygments_lexer": "ipython3",
   "version": "3.10.6"
  }
 },
 "nbformat": 4,
 "nbformat_minor": 5
}
