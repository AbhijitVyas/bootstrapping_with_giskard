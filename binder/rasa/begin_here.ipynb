{
 "cells": [
  {
   "cell_type": "code",
   "execution_count": null,
   "id": "13a2b559",
   "metadata": {},
   "outputs": [],
   "source": [
    "%run start_rasa.py"
   ]
  },
  {
   "cell_type": "code",
   "execution_count": null,
   "id": "41352a49",
   "metadata": {},
   "outputs": [],
   "source": [
    "%run query_rasa.py"
   ]
  }
 ],
 "metadata": {
  "kernelspec": {
   "display_name": "Python 3 (ipykernel)",
   "language": "python",
   "name": "python3"
  },
  "language_info": {
   "codemirror_mode": {
    "name": "ipython",
    "version": 3
   },
   "file_extension": ".py",
   "mimetype": "text/x-python",
   "name": "python",
   "nbconvert_exporter": "python",
   "pygments_lexer": "ipython3",
   "version": "3.10.6"
  }
 },
 "nbformat": 4,
 "nbformat_minor": 5
}
