{
 "cells": [
  {
   "cell_type": "markdown",
   "id": "e81d2131-8e75-4c52-8ac3-b581e6320a9a",
   "metadata": {},
   "source": [
    "# Robot playground"
   ]
  },
  {
   "cell_type": "code",
   "execution_count": 4,
   "id": "6633880e",
   "metadata": {
    "execution": {
     "iopub.execute_input": "2024-01-17T16:00:24.001809Z",
     "iopub.status.busy": "2024-01-17T16:00:24.001561Z",
     "iopub.status.idle": "2024-01-17T16:00:24.004872Z",
     "shell.execute_reply": "2024-01-17T16:00:24.004406Z",
     "shell.execute_reply.started": "2024-01-17T16:00:24.001790Z"
    }
   },
   "outputs": [],
   "source": [
    "import os\n",
    "\n",
    "LAUNCH_DIR = os.path.abspath(os.path.join(os.getcwd(), \"../launch\"))\n",
    "\n",
    "def getRobotLaunchfile(robot):\n",
    "    return os.path.join(LAUNCH_DIR, f\"{robot}_standalone.launch\")\n"
   ]
  },
  {
   "cell_type": "markdown",
   "id": "19395814-9cb6-40df-8f63-50aa5ce5456d",
   "metadata": {},
   "source": [
    "# PR2"
   ]
  },
  {
   "cell_type": "code",
   "execution_count": null,
   "id": "de52925c-7c43-4140-a269-4351a2684fd0",
   "metadata": {},
   "outputs": [],
   "source": [
    "launchfile = getRobotLaunchfile('pr2')\n",
    "!roslaunch $launchfile"
   ]
  },
  {
   "cell_type": "markdown",
   "id": "9a6a48ac-3c75-4abc-aebd-89d69d51bfe5",
   "metadata": {},
   "source": [
    "## Tiago"
   ]
  },
  {
   "cell_type": "code",
   "execution_count": null,
   "id": "8037f40f-db81-4c8a-8cbe-7c3094f1c35a",
   "metadata": {
    "execution": {
     "iopub.execute_input": "2024-01-17T16:00:25.064994Z",
     "iopub.status.busy": "2024-01-17T16:00:25.064770Z"
    }
   },
   "outputs": [
    {
     "name": "stdout",
     "output_type": "stream",
     "text": [
      "... logging to /home/jovyan/.ros/log/4970c886-b551-11ee-8f23-0242c0a89002/roslaunch-c16e6e3358c2-585.log\n",
      "Checking log directory for disk usage. This may take a while.\n",
      "Press Ctrl-C to interrupt\n",
      "Done checking log file disk usage. Usage is <1GB.\n",
      "\u001b]2;/home/jovyan/giskard_examples/launch/tiago_standalone.launch\u0007\n",
      "\u001b[1mstarted roslaunch server http://c16e6e3358c2:44825/\u001b[0m\n",
      "\n",
      "SUMMARY\n",
      "========\n",
      "\n",
      "PARAMETERS\n",
      " * /collision_model_parameters/blacklist/default: [{'first': 'arm_l...\n",
      " * /collision_model_parameters/links_with_padding: []\n",
      " * /collision_model_parameters/padding: 0\n",
      " * /giskard_interactive_marker/enable_self_collision: False\n",
      " * /giskard_interactive_marker/interactive_marker_chains: [['tiago_dual/bas...\n",
      " * /robot_description: <?xml version=\"1....\n",
      " * /rosdistro: noetic\n",
      " * /rosversion: 1.16.0\n",
      " * /rvizweb/global_config: <...>\n",
      "\n",
      "NODES\n",
      "  /\n",
      "    giskard (giskardpy/tiago_standalone.py)\n",
      "    giskard_interactive_marker (giskardpy/interactive_marker.py)\n",
      "    interactive_marker_proxy (interactive_marker_proxy/proxy)\n",
      "    my_move_base (giskardpy/move_base_simple_goal_diff_drive.py)\n",
      "    rviz_config_publisher (rostopic/rostopic)\n",
      "\n",
      "\u001b[1mROS_MASTER_URI=http://localhost:11311\u001b[0m\n",
      "\u001b]2;/home/jovyan/giskard_examples/launch/tiago_standalone.launch http://localhost:11311\u0007\n",
      "\u001b[1mprocess[giskard-1]: started with pid [599]\u001b[0m\n",
      "\u001b[1mprocess[giskard_interactive_marker-2]: started with pid [600]\u001b[0m\n",
      "\u001b[1mprocess[my_move_base-3]: started with pid [601]\u001b[0m\n",
      "\u001b[1mprocess[interactive_marker_proxy-4]: started with pid [602]\u001b[0m\n",
      "\u001b[1mprocess[rviz_config_publisher-5]: started with pid [603]\u001b[0m\n",
      "[/unnamed]: Found these qp solvers: ['qpalm']\n",
      "[INFO] [1705507227.855272]: [/giskard]: Using betterpybullet for collision checking.\n",
      "[INFO] [1705507227.919629]: [/giskard]: loading self collision matrix: /home/jovyan/workspace/ros/src/giskardpy/self_collision_matrices/iai/tiago_dual.srdf\n",
      "[INFO] [1705507227.946767]: [/giskard]: Loaded self collision matrix: /home/jovyan/workspace/ros/src/giskardpy/self_collision_matrices/iai/tiago_dual.srdf\n",
      "[INFO] [1705507227.990364]: [/giskard]: The following joints are non-fixed according to the urdf, but not flagged as controlled: {'tiago_dual/caster_front_left_2_joint', 'tiago_dual/wheel_right_joint', 'tiago_dual/wheel_left_joint', 'tiago_dual/caster_front_left_1_joint', 'tiago_dual/caster_back_right_1_joint', 'tiago_dual/caster_back_left_2_joint', 'tiago_dual/caster_back_left_1_joint', 'tiago_dual/caster_front_right_1_joint', 'tiago_dual/suspension_left_joint', 'tiago_dual/caster_front_right_2_joint', 'tiago_dual/suspension_right_joint', 'tiago_dual/caster_back_right_2_joint'}.\n",
      "[INFO] [1705507228.014828]: [/giskard]: Converted /home/jovyan/workspace/ros/src/iai_tiago/tiago_robot/tiago_description/meshes/arm/arm_1_collision.dae to obj and saved in /home/jovyan/workspace/ros/src/giskardpy/tmp/tiago_dual/arm_1_collision.obj.\n",
      "[INFO] [1705507228.018654]: [/giskard]: /home/jovyan/workspace/ros/src/iai_tiago/tiago_robot/tiago_description/meshes/arm/arm_1_collision.dae is not convex, applying vhacd.\n",
      "\u001b[1m[rviz_config_publisher-5] process has finished cleanly\n",
      "log file: /home/jovyan/.ros/log/4970c886-b551-11ee-8f23-0242c0a89002/rviz_config_publisher-5*.log\u001b[0m\n",
      "[INFO] [1705507230.747725]: [/giskard]: Converted /home/jovyan/workspace/ros/src/iai_tiago/tiago_robot/tiago_description/meshes/arm/arm_2_collision.dae to obj and saved in /home/jovyan/workspace/ros/src/giskardpy/tmp/tiago_dual/arm_2_collision.obj.\n",
      "[INFO] [1705507230.753351]: [/giskard]: Converted /home/jovyan/workspace/ros/src/iai_tiago/tiago_robot/tiago_description/meshes/arm/arm_3_collision.dae to obj and saved in /home/jovyan/workspace/ros/src/giskardpy/tmp/tiago_dual/arm_3_collision.obj.\n",
      "[INFO] [1705507230.755568]: [/giskard]: /home/jovyan/workspace/ros/src/iai_tiago/tiago_robot/tiago_description/meshes/arm/arm_3_collision.dae is not convex, applying vhacd.\n",
      "[INFO] [1705507231.034056]: [/giskard]: Converted /home/jovyan/workspace/ros/src/iai_tiago/tiago_robot/tiago_description/meshes/arm/arm_4_collision.dae to obj and saved in /home/jovyan/workspace/ros/src/giskardpy/tmp/tiago_dual/arm_4_collision.obj.\n",
      "[INFO] [1705507231.036696]: [/giskard]: /home/jovyan/workspace/ros/src/iai_tiago/tiago_robot/tiago_description/meshes/arm/arm_4_collision.dae is not convex, applying vhacd.\n",
      "[INFO] [1705507231.290621]: [/giskard]: Converted /home/jovyan/workspace/ros/src/iai_tiago/tiago_robot/tiago_description/meshes/arm/arm_5_collision-wrist-2017.dae to obj and saved in /home/jovyan/workspace/ros/src/giskardpy/tmp/tiago_dual/arm_5_collision-wrist-2017.obj.\n",
      "[INFO] [1705507231.293268]: [/giskard]: /home/jovyan/workspace/ros/src/iai_tiago/tiago_robot/tiago_description/meshes/arm/arm_5_collision-wrist-2017.dae is not convex, applying vhacd.\n",
      "[INFO] [1705507235.088577]: [/giskard]: Converted /home/jovyan/workspace/ros/src/iai_tiago/tiago_robot/tiago_description/meshes/arm/arm_6_collision-wrist-2017.dae to obj and saved in /home/jovyan/workspace/ros/src/giskardpy/tmp/tiago_dual/arm_6_collision-wrist-2017.obj.\n",
      "[INFO] [1705507235.091226]: [/giskard]: /home/jovyan/workspace/ros/src/iai_tiago/tiago_robot/tiago_description/meshes/arm/arm_6_collision-wrist-2017.dae is not convex, applying vhacd.\n",
      "[INFO] [1705507236.941691]: [/giskard]: Converted /home/jovyan/workspace/ros/src/iai_tiago/pmb2_robot/pmb2_description/meshes/base/base_collision.stl to obj and saved in /home/jovyan/workspace/ros/src/giskardpy/tmp/tiago_dual/base_collision.obj.\n",
      "[INFO] [1705507236.945039]: [/giskard]: /home/jovyan/workspace/ros/src/iai_tiago/pmb2_robot/pmb2_description/meshes/base/base_collision.stl is not convex, applying vhacd.\n",
      "[INFO] [1705507251.423253]: [/giskard]: Converted /home/jovyan/workspace/ros/src/iai_tiago/pal_gripper/pal_gripper_description/meshes/gripper_link_collision.stl to obj and saved in /home/jovyan/workspace/ros/src/giskardpy/tmp/tiago_dual/gripper_link_collision.obj.\n",
      "[INFO] [1705507251.439422]: [/giskard]: Converted /home/jovyan/workspace/ros/src/iai_tiago/tiago_robot/tiago_description/meshes/head/head_1_collision.dae to obj and saved in /home/jovyan/workspace/ros/src/giskardpy/tmp/tiago_dual/head_1_collision.obj.\n",
      "[INFO] [1705507251.446373]: [/giskard]: /home/jovyan/workspace/ros/src/iai_tiago/tiago_robot/tiago_description/meshes/head/head_1_collision.dae is not convex, applying vhacd.\n",
      "[INFO] [1705507254.940662]: [/giskard]: Converted /home/jovyan/workspace/ros/src/iai_tiago/tiago_robot/tiago_description/meshes/head/head_2_collision.dae to obj and saved in /home/jovyan/workspace/ros/src/giskardpy/tmp/tiago_dual/head_2_collision.obj.\n",
      "[INFO] [1705507254.943849]: [/giskard]: /home/jovyan/workspace/ros/src/iai_tiago/tiago_robot/tiago_description/meshes/head/head_2_collision.dae is not convex, applying vhacd.\n",
      "[INFO] [1705507255.177148]: [/giskard]: Converted /home/jovyan/workspace/ros/src/iai_tiago/tiago_robot/tiago_description/meshes/torso/torso_lift_collision_core.dae to obj and saved in /home/jovyan/workspace/ros/src/giskardpy/tmp/tiago_dual/torso_lift_collision_core.obj.\n",
      "[INFO] [1705507255.178860]: [/giskard]: /home/jovyan/workspace/ros/src/iai_tiago/tiago_robot/tiago_description/meshes/torso/torso_lift_collision_core.dae is not convex, applying vhacd.\n",
      "[INFO] [1705507256.514998]: [/giskard]: Converted /home/jovyan/workspace/ros/src/iai_tiago/tiago_robot/tiago_description/meshes/torso/torso_lift_collision_shoulder.dae to obj and saved in /home/jovyan/workspace/ros/src/giskardpy/tmp/tiago_dual/torso_lift_collision_shoulder.obj.\n",
      "[INFO] [1705507256.521724]: [/giskard]: Converted /home/jovyan/workspace/ros/src/iai_tiago/tiago_robot/tiago_description/meshes/torso/torso_lift_collision_neck.dae to obj and saved in /home/jovyan/workspace/ros/src/giskardpy/tmp/tiago_dual/torso_lift_collision_neck.obj.\n",
      "[INFO] [1705507256.523513]: [/giskard]: /home/jovyan/workspace/ros/src/iai_tiago/tiago_robot/tiago_description/meshes/torso/torso_lift_collision_neck.dae is not convex, applying vhacd.\n",
      "[INFO] [1705507256.857542]: [/giskard]: giskard is ready\n"
     ]
    }
   ],
   "source": [
    "# !roslaunch giskardpy giskardpy_tiago_standalone.launch\n",
    "\n",
    "launchfile = getRobotLaunchfile('tiago')\n",
    "!roslaunch $launchfile"
   ]
  },
  {
   "cell_type": "markdown",
   "id": "91cbdc73-7956-4f93-a8b9-7a6ba30301fa",
   "metadata": {},
   "source": [
    "## Donbot (markerArray 3d Mesh issue)"
   ]
  },
  {
   "cell_type": "code",
   "execution_count": null,
   "id": "56ee20da-26a2-4126-ba4b-23a8fe133433",
   "metadata": {
    "scrolled": true,
    "tags": []
   },
   "outputs": [],
   "source": [
    "launchfile = getRobotLaunchfile('donbot')\n",
    "!roslaunch $launchfile"
   ]
  },
  {
   "cell_type": "markdown",
   "id": "1a7368aa-1abc-4b6e-90c3-3f2caeecf18a",
   "metadata": {},
   "source": [
    "## HSR (Description Missing)"
   ]
  },
  {
   "cell_type": "code",
   "execution_count": null,
   "id": "4fc2fe2b-5959-42ff-8022-09921cc9c030",
   "metadata": {},
   "outputs": [],
   "source": [
    "# !roslaunch giskardpy giskardpy_hsr_standalone.launch\n",
    "\n",
    "launchfile = getRobotLaunchfile('hsr')\n",
    "!roslaunch $launchfile"
   ]
  },
  {
   "cell_type": "markdown",
   "id": "ee2b9215-0e44-4a7f-b8c4-8f98559d6651",
   "metadata": {},
   "source": [
    "## Tracy"
   ]
  },
  {
   "cell_type": "code",
   "execution_count": null,
   "id": "99060a95-65b5-43f4-8595-e30a7359f1d5",
   "metadata": {},
   "outputs": [],
   "source": [
    "# !roslaunch giskardpy giskardpy_tracy_standalone.launch\n",
    "\n",
    "launchfile = getRobotLaunchfile('tracy')\n",
    "!roslaunch $launchfile"
   ]
  },
  {
   "cell_type": "markdown",
   "id": "d5a18bea-9f22-4bc6-b3f1-6383244545d7",
   "metadata": {},
   "source": [
    "## Boxy (robot description and markerArray 3d Mesh issue)"
   ]
  },
  {
   "cell_type": "code",
   "execution_count": null,
   "id": "4683586b-24f4-483b-8b8e-a60debc062ca",
   "metadata": {
    "scrolled": true,
    "tags": []
   },
   "outputs": [],
   "source": [
    "launchfile = getRobotLaunchfile('boxy')\n",
    "!roslaunch $launchfile"
   ]
  },
  {
   "cell_type": "markdown",
   "id": "938d18b9-cb61-4cd0-a27a-b486b860a54f",
   "metadata": {},
   "source": [
    "## Armar (Description Missing)"
   ]
  },
  {
   "cell_type": "code",
   "execution_count": null,
   "id": "7a1a0cd8-10c3-48a0-80f7-742ad6be6137",
   "metadata": {
    "tags": []
   },
   "outputs": [],
   "source": [
    "# !roslaunch giskardpy giskardpy_armar.launch\n",
    "\n",
    "launchfile = getRobotLaunchfile('armar')\n",
    "!roslaunch $launchfile"
   ]
  },
  {
   "cell_type": "code",
   "execution_count": null,
   "id": "189fb21c",
   "metadata": {},
   "outputs": [],
   "source": [
    "# %%script bash --bg --out script_out\n",
    "# import subprocess\n",
    "# launchfile = getRobotLaunchfile('pr2')\n",
    "# command = f\"roslaunch {launchfile}\"\n",
    "# process = subprocess.Popen(command, shell=True)"
   ]
  }
 ],
 "metadata": {
  "kernelspec": {
   "display_name": "Python 3 (ipykernel)",
   "language": "python",
   "name": "python3"
  },
  "language_info": {
   "codemirror_mode": {
    "name": "ipython",
    "version": 3
   },
   "file_extension": ".py",
   "mimetype": "text/x-python",
   "name": "python",
   "nbconvert_exporter": "python",
   "pygments_lexer": "ipython3",
   "version": "3.10.6"
  }
 },
 "nbformat": 4,
 "nbformat_minor": 5
}
