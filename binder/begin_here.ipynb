{
 "cells": [
  {
   "cell_type": "code",
   "execution_count": 13,
   "id": "82678035-d523-48aa-b271-78c8658ed34d",
   "metadata": {
    "execution": {
     "iopub.execute_input": "2024-02-08T15:41:22.707788Z",
     "iopub.status.busy": "2024-02-08T15:41:22.706835Z",
     "iopub.status.idle": "2024-02-08T15:41:22.712913Z",
     "shell.execute_reply": "2024-02-08T15:41:22.711834Z",
     "shell.execute_reply.started": "2024-02-08T15:41:22.707744Z"
    }
   },
   "outputs": [],
   "source": [
    "# import os\n",
    "# os.chdir('../../')"
   ]
  },
  {
   "cell_type": "code",
   "execution_count": 5,
   "id": "f9ab6db9",
   "metadata": {
    "execution": {
     "iopub.execute_input": "2024-02-09T06:27:11.065141Z",
     "iopub.status.busy": "2024-02-09T06:27:11.064871Z",
     "iopub.status.idle": "2024-02-09T06:27:11.607423Z",
     "shell.execute_reply": "2024-02-09T06:27:11.606814Z",
     "shell.execute_reply.started": "2024-02-09T06:27:11.065123Z"
    }
   },
   "outputs": [
    {
     "name": "stdout",
     "output_type": "stream",
     "text": [
      "RASA uninstalled\n"
     ]
    }
   ],
   "source": [
    "import subprocess\n",
    "bash_install = \"pip uninstall rasa -y\"\n",
    "process = subprocess.run(bash_install, shell=True, capture_output=True, text=True)\n",
    "# process = subprocess.Popen(bash_install, shell=True, stdout=subprocess.PIPE, stderr=subprocess.STDOUT, text=True)\n",
    "# for line in iter(process.stdout.readline, ''):\n",
    "  # print(line, end='')\n",
    "    # print()\n",
    "print(\"RASA uninstalled\")"
   ]
  },
  {
   "cell_type": "code",
   "execution_count": 7,
   "id": "edf89306-117a-497f-a448-07456cd10396",
   "metadata": {
    "execution": {
     "iopub.execute_input": "2024-02-09T06:27:52.774117Z",
     "iopub.status.busy": "2024-02-09T06:27:52.773477Z",
     "iopub.status.idle": "2024-02-09T06:27:58.090130Z",
     "shell.execute_reply": "2024-02-09T06:27:58.089288Z",
     "shell.execute_reply.started": "2024-02-09T06:27:52.774081Z"
    }
   },
   "outputs": [
    {
     "name": "stdout",
     "output_type": "stream",
     "text": [
      "Install Status: RASA installed and Imported\n",
      "/opt/conda/lib/python3.10/site-packages/rasa/shared/utils/validation.py:134: DeprecationWarning: pkg_resources is deprecated as an API. See https://setuptools.pypa.io/en/latest/pkg_resources.html\n",
      "  import pkg_resources\n",
      "/opt/conda/lib/python3.10/site-packages/pkg_resources/__init__.py:2868: DeprecationWarning: Deprecated call to `pkg_resources.declare_namespace('mpl_toolkits')`.\n",
      "Implementing implicit namespace packages (as specified in PEP 420) is preferred to `pkg_resources.declare_namespace`. See https://setuptools.pypa.io/en/latest/references/keywords.html#keyword-namespace-packages\n",
      "  declare_namespace(pkg)\n",
      "/opt/conda/lib/python3.10/site-packages/pkg_resources/__init__.py:2868: DeprecationWarning: Deprecated call to `pkg_resources.declare_namespace('ruamel')`.\n",
      "Implementing implicit namespace packages (as specified in PEP 420) is preferred to `pkg_resources.declare_namespace`. See https://setuptools.pypa.io/en/latest/references/keywords.html#keyword-namespace-packages\n",
      "  declare_namespace(pkg)\n",
      "/opt/conda/lib/python3.10/site-packages/pkg_resources/__init__.py:2868: DeprecationWarning: Deprecated call to `pkg_resources.declare_namespace('ruamel.yaml')`.\n",
      "Implementing implicit namespace packages (as specified in PEP 420) is preferred to `pkg_resources.declare_namespace`. See https://setuptools.pypa.io/en/latest/references/keywords.html#keyword-namespace-packages\n",
      "  declare_namespace(pkg)\n",
      "/opt/conda/lib/python3.10/site-packages/pkg_resources/__init__.py:2868: DeprecationWarning: Deprecated call to `pkg_resources.declare_namespace('zope')`.\n",
      "Implementing implicit namespace packages (as specified in PEP 420) is preferred to `pkg_resources.declare_namespace`. See https://setuptools.pypa.io/en/latest/references/keywords.html#keyword-namespace-packages\n",
      "  declare_namespace(pkg)\n",
      "/opt/conda/lib/python3.10/site-packages/sanic_cors/extension.py:39: DeprecationWarning: distutils Version classes are deprecated. Use packaging.version instead.\n",
      "  SANIC_VERSION = LooseVersion(sanic_version)\n",
      "/opt/conda/lib/python3.10/site-packages/keras/engine/data_adapter.py:44: DeprecationWarning: \n",
      "Pyarrow will become a required dependency of pandas in the next major release of pandas (pandas 3.0),\n",
      "(to allow more performant data types, such as the Arrow string type, and better interoperability with other libraries)\n",
      "but was not found to be installed on your system.\n",
      "If this would cause problems for you,\n",
      "please provide us feedback at https://github.com/pandas-dev/pandas/issues/54466\n",
      "        \n",
      "  import pandas as pd\n",
      "2024-02-09 06:28:01 INFO     root  - Starting Rasa server on http://0.0.0.0:5005\n",
      "2024-02-09 06:28:02 INFO     rasa.core.processor  - Loading model models/nlu-20240127-054502-chocolate-vivace.tar.gz...\n",
      "2024-02-09 06:28:03 INFO     rasa.nlu.utils.spacy_utils  - Trying to load SpaCy model with name 'en_core_web_sm'.\n",
      "2024-02-09 06:28:04 INFO     rasa.nlu.utils.spacy_utils  - Trying to load SpaCy model with name 'en_core_web_sm'.\n",
      "Some weights of the PyTorch model were not used when initializing the TF 2.0 model TFBertModel: ['cls.predictions.transform.dense.bias', 'cls.seq_relationship.bias', 'cls.predictions.transform.dense.weight', 'cls.predictions.bias', 'cls.predictions.transform.LayerNorm.weight', 'cls.predictions.transform.LayerNorm.bias', 'cls.seq_relationship.weight']\n",
      "- This IS expected if you are initializing TFBertModel from a PyTorch model trained on another task or with another architecture (e.g. initializing a TFBertForSequenceClassification model from a BertForPreTraining model).\n",
      "- This IS NOT expected if you are initializing TFBertModel from a PyTorch model that you expect to be exactly identical (e.g. initializing a TFBertForSequenceClassification model from a BertForSequenceClassification model).\n",
      "All the weights of TFBertModel were initialized from the PyTorch model.\n",
      "If your task is similar to the task the model of the checkpoint was trained on, you can already use TFBertModel for predictions without further training.\n",
      "2024-02-09 06:28:58 INFO     root  - Rasa server is up and running.\n"
     ]
    }
   ],
   "source": [
    "%run rasa/start_rasa.py"
   ]
  },
  {
   "cell_type": "code",
   "execution_count": 17,
   "id": "f7e26d77-2968-47a8-a9ec-ad2e0a100d72",
   "metadata": {
    "execution": {
     "iopub.execute_input": "2024-02-09T06:40:26.738874Z",
     "iopub.status.busy": "2024-02-09T06:40:26.738636Z",
     "iopub.status.idle": "2024-02-09T06:40:26.775765Z",
     "shell.execute_reply": "2024-02-09T06:40:26.774672Z",
     "shell.execute_reply.started": "2024-02-09T06:40:26.738857Z"
    }
   },
   "outputs": [
    {
     "ename": "ImportError",
     "evalue": "attempted relative import with no known parent package",
     "output_type": "error",
     "traceback": [
      "\u001b[0;31m---------------------------------------------------------------------------\u001b[0m",
      "\u001b[0;31mImportError\u001b[0m                               Traceback (most recent call last)",
      "Cell \u001b[0;32mIn [17], line 7\u001b[0m\n\u001b[1;32m      5\u001b[0m \u001b[38;5;28;01mimport\u001b[39;00m \u001b[38;5;21;01msys\u001b[39;00m\n\u001b[1;32m      6\u001b[0m \u001b[38;5;28;01mimport\u001b[39;00m \u001b[38;5;21;01mos\u001b[39;00m\n\u001b[0;32m----> 7\u001b[0m \u001b[38;5;28;01mfrom\u001b[39;00m \u001b[38;5;21;01m.\u001b[39;00m\u001b[38;5;21;01m.\u001b[39;00m\u001b[38;5;21;01m.\u001b[39;00m\u001b[38;5;21;01mbootstrap\u001b[39;00m\u001b[38;5;21;01m.\u001b[39;00m\u001b[38;5;21;01mscripts\u001b[39;00m\u001b[38;5;21;01m.\u001b[39;00m\u001b[38;5;21;01mpreprocessing\u001b[39;00m \u001b[38;5;28;01mimport\u001b[39;00m preprocessing\n\u001b[1;32m      8\u001b[0m \u001b[38;5;28;01mfrom\u001b[39;00m \u001b[38;5;21;01m.\u001b[39;00m\u001b[38;5;21;01m.\u001b[39;00m\u001b[38;5;21;01m.\u001b[39;00m\u001b[38;5;21;01mbootstrap\u001b[39;00m\u001b[38;5;21;01m.\u001b[39;00m\u001b[38;5;21;01mscripts\u001b[39;00m\u001b[38;5;21;01m.\u001b[39;00m\u001b[38;5;21;01mpostprocessings\u001b[39;00m \u001b[38;5;28;01mimport\u001b[39;00m postprocess\n\u001b[1;32m     10\u001b[0m \u001b[38;5;66;03m# Define a function that will be called when the button is clicked\u001b[39;00m\n",
      "\u001b[0;31mImportError\u001b[0m: attempted relative import with no known parent package"
     ]
    }
   ],
   "source": [
    "import ipywidgets as widgets\n",
    "from IPython.display import display\n",
    "import json\n",
    "import requests\n",
    "import sys\n",
    "import os\n",
    "from ...bootstrap.scripts.preprocessing import preprocessing\n",
    "from ...bootstrap.scripts.postprocessings import postprocess\n",
    "\n",
    "# Define a function that will be called when the button is clicked\n",
    "def handle_submit(sender):\n",
    "    print(\"User input:\", text.value)\n",
    "    preoutput = preprocessing(text.value)\n",
    "\n",
    "    payload = {\"sender\": \"Rasa\", \"text\": text.value}\n",
    "    headers = {'content-type': 'application/json'}\n",
    "    response = requests.post('http://localhost:5005/model/parse', json=payload, headers=headers)\n",
    "    rasa_output = response.json()\n",
    "    intents = rasa_out['intent']['name']\n",
    "    \n",
    "    # output = {'text': 'pour water from the botle into bowl', 'intent': {'name': 'pouring', 'confidence': 1.0}, 'entities': [{'entity': 'stuff', 'start': 5, 'end': 10, 'confidence_entity': 0.9997896552085876, 'value': 'water', 'extractor': 'DIETClassifier', 'processors': ['EntitySynonymMapper']}, {'entity': 'location', 'start': 20, 'end': 25, 'confidence_entity': 0.699463427066803, 'role': 'destination', 'confidence_role': 0.47588619589805603, 'value': 'botle', 'extractor': 'DIETClassifier'}, {'entity': 'location', 'start': 31, 'end': 35, 'confidence_entity': 0.9950605034828186, 'role': 'destination', 'confidence_role': 0.9759082794189453, 'value': 'bowl', 'extractor': 'DIETClassifier', 'processors': ['EntitySynonymMapper']}, {'entity': 'stuff', 'start': 5, 'end': 10, 'value': 'water', 'extractor': 'RegexEntityExtractor', 'processors': ['EntitySynonymMapper']}, {'entity': 'obj_to_be_shaken', 'start': 31, 'end': 35, 'value': 'bowl', 'extractor': 'RegexEntityExtractor', 'processors': ['EntitySynonymMapper']}, {'entity': 'obj_to_be_picked', 'start': 31, 'end': 35, 'value': 'bowl', 'extractor': 'RegexEntityExtractor', 'processors': ['EntitySynonymMapper']}], 'text_tokens': [[0, 4], [5, 10], [11, 15], [16, 19], [20, 25], [26, 30], [31, 35]], 'intent_ranking': [{'name': 'pouring', 'confidence': 1.0}, {'name': 'drop', 'confidence': 2.4180452778965744e-11}, {'name': 'put_down', 'confidence': 9.682448419423562e-12}, {'name': 'pick_up', 'confidence': 1.3734334849968555e-12}, {'name': 'shake', 'confidence': 8.603567077519747e-13}]}\n",
    "\n",
    "    final = postprocess(rasa_output,preoutput)\n",
    "\n",
    "    output = final.print_params()\n",
    "\n",
    "    print(\"FINAL output: \",output)\n",
    "\n",
    "# Create a text input widget\n",
    "text = widgets.Text(description=\"Enter text:\")\n",
    "\n",
    "# Create a button widget\n",
    "button = widgets.Button(description=\"Submit\")\n",
    "\n",
    "# Attach the handle_submit function to the button's click event\n",
    "button.on_click(handle_submit)\n",
    "\n",
    "# Display the widgets\n",
    "display(text)\n",
    "display(button)\n"
   ]
  },
  {
   "cell_type": "code",
   "execution_count": 13,
   "id": "0ed0931a-9747-46dd-adb7-90301ed9e38a",
   "metadata": {
    "execution": {
     "iopub.execute_input": "2024-02-09T06:35:53.926225Z",
     "iopub.status.busy": "2024-02-09T06:35:53.925970Z",
     "iopub.status.idle": "2024-02-09T06:35:54.669718Z",
     "shell.execute_reply": "2024-02-09T06:35:54.668896Z",
     "shell.execute_reply.started": "2024-02-09T06:35:53.926207Z"
    }
   },
   "outputs": [],
   "source": [
    "payload = {\"sender\": \"Rasa\", \"text\": \"pour water into bowl\"}\n",
    "headers = {'content-type': 'application/json'}\n",
    "response = requests.post('http://localhost:5005/model/parse', json=payload, headers=headers)\n",
    "rasa_output = response.json()\n",
    "intents = rasa_output['intent']['name']"
   ]
  },
  {
   "cell_type": "code",
   "execution_count": 14,
   "id": "5770b655-0470-4613-95e5-ab682bc48a9c",
   "metadata": {
    "execution": {
     "iopub.execute_input": "2024-02-09T06:35:56.932219Z",
     "iopub.status.busy": "2024-02-09T06:35:56.931789Z",
     "iopub.status.idle": "2024-02-09T06:35:56.940750Z",
     "shell.execute_reply": "2024-02-09T06:35:56.940426Z",
     "shell.execute_reply.started": "2024-02-09T06:35:56.932185Z"
    }
   },
   "outputs": [
    {
     "data": {
      "text/plain": [
       "'pouring'"
      ]
     },
     "execution_count": 14,
     "metadata": {},
     "output_type": "execute_result"
    }
   ],
   "source": [
    "intents"
   ]
  },
  {
   "cell_type": "code",
   "execution_count": 15,
   "id": "227fc841-5d13-4730-b793-eab8141d3c09",
   "metadata": {
    "execution": {
     "iopub.execute_input": "2024-02-09T06:36:00.324462Z",
     "iopub.status.busy": "2024-02-09T06:36:00.324224Z",
     "iopub.status.idle": "2024-02-09T06:36:00.456622Z",
     "shell.execute_reply": "2024-02-09T06:36:00.455720Z",
     "shell.execute_reply.started": "2024-02-09T06:36:00.324445Z"
    }
   },
   "outputs": [
    {
     "name": "stdout",
     "output_type": "stream",
     "text": [
      "/home/jovyan/giskard_examples/binder/rasa\n"
     ]
    }
   ],
   "source": [
    "!pwd"
   ]
  }
 ],
 "metadata": {
  "kernelspec": {
   "display_name": "Python 3 (ipykernel)",
   "language": "python",
   "name": "python3"
  },
  "language_info": {
   "codemirror_mode": {
    "name": "ipython",
    "version": 3
   },
   "file_extension": ".py",
   "mimetype": "text/x-python",
   "name": "python",
   "nbconvert_exporter": "python",
   "pygments_lexer": "ipython3",
   "version": "3.10.6"
  }
 },
 "nbformat": 4,
 "nbformat_minor": 5
}
