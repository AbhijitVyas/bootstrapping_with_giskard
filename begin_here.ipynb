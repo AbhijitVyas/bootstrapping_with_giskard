{
 "cells": [
  {
   "cell_type": "code",
   "execution_count": 13,
   "id": "82678035-d523-48aa-b271-78c8658ed34d",
   "metadata": {
    "execution": {
     "iopub.execute_input": "2024-02-08T15:41:22.707788Z",
     "iopub.status.busy": "2024-02-08T15:41:22.706835Z",
     "iopub.status.idle": "2024-02-08T15:41:22.712913Z",
     "shell.execute_reply": "2024-02-08T15:41:22.711834Z",
     "shell.execute_reply.started": "2024-02-08T15:41:22.707744Z"
    }
   },
   "outputs": [],
   "source": [
    "# import os\n",
    "# os.chdir('../../')"
   ]
  },
  {
   "cell_type": "code",
   "execution_count": 15,
   "id": "edf89306-117a-497f-a448-07456cd10396",
   "metadata": {
    "execution": {
     "iopub.execute_input": "2024-02-08T15:41:39.817927Z",
     "iopub.status.busy": "2024-02-08T15:41:39.817464Z",
     "iopub.status.idle": "2024-02-08T15:41:39.828198Z",
     "shell.execute_reply": "2024-02-08T15:41:39.827173Z",
     "shell.execute_reply.started": "2024-02-08T15:41:39.817889Z"
    }
   },
   "outputs": [
    {
     "name": "stdout",
     "output_type": "stream",
     "text": [
      "Changed directory to: ./binder/rasa\n"
     ]
    }
   ],
   "source": [
    "%run test.py"
   ]
  },
  {
   "cell_type": "code",
   "execution_count": 19,
   "id": "0ed0931a-9747-46dd-adb7-90301ed9e38a",
   "metadata": {
    "execution": {
     "iopub.execute_input": "2024-02-08T15:43:38.808814Z",
     "iopub.status.busy": "2024-02-08T15:43:38.808518Z",
     "iopub.status.idle": "2024-02-08T15:43:40.021440Z",
     "shell.execute_reply": "2024-02-08T15:43:40.020699Z",
     "shell.execute_reply.started": "2024-02-08T15:43:38.808796Z"
    }
   },
   "outputs": [
    {
     "data": {
      "text/plain": [
       "{'text': 'pour water into bowl',\n",
       " 'intent': {'name': 'pouring', 'confidence': 1.0},\n",
       " 'entities': [{'entity': 'stuff',\n",
       "   'start': 5,\n",
       "   'end': 10,\n",
       "   'confidence_entity': 0.9973223209381104,\n",
       "   'value': 'water',\n",
       "   'extractor': 'DIETClassifier',\n",
       "   'processors': ['EntitySynonymMapper']},\n",
       "  {'entity': 'location',\n",
       "   'start': 16,\n",
       "   'end': 20,\n",
       "   'confidence_entity': 0.9527994394302368,\n",
       "   'role': 'destination',\n",
       "   'confidence_role': 0.911693811416626,\n",
       "   'value': 'bowl',\n",
       "   'extractor': 'DIETClassifier',\n",
       "   'processors': ['EntitySynonymMapper']},\n",
       "  {'entity': 'stuff',\n",
       "   'start': 5,\n",
       "   'end': 10,\n",
       "   'value': 'water',\n",
       "   'extractor': 'RegexEntityExtractor',\n",
       "   'processors': ['EntitySynonymMapper']},\n",
       "  {'entity': 'obj_to_be_shaken',\n",
       "   'start': 16,\n",
       "   'end': 20,\n",
       "   'value': 'bowl',\n",
       "   'extractor': 'RegexEntityExtractor',\n",
       "   'processors': ['EntitySynonymMapper']},\n",
       "  {'entity': 'obj_to_be_picked',\n",
       "   'start': 16,\n",
       "   'end': 20,\n",
       "   'value': 'bowl',\n",
       "   'extractor': 'RegexEntityExtractor',\n",
       "   'processors': ['EntitySynonymMapper']}],\n",
       " 'text_tokens': [[0, 4], [5, 10], [11, 15], [16, 20]],\n",
       " 'intent_ranking': [{'name': 'pouring', 'confidence': 1.0},\n",
       "  {'name': 'drop', 'confidence': 1.0320614363124037e-09},\n",
       "  {'name': 'put_down', 'confidence': 3.486665678398282e-10},\n",
       "  {'name': 'pick_up', 'confidence': 1.5232978073376202e-11},\n",
       "  {'name': 'shake', 'confidence': 1.3870286863504333e-11}]}"
      ]
     },
     "execution_count": 19,
     "metadata": {},
     "output_type": "execute_result"
    }
   ],
   "source": [
    "import requests\n",
    "payload = {\"sender\": \"Rasa\", \"text\": \"pour water into bowl\"}\n",
    "headers = {'content-type': 'application/json'}\n",
    "response = requests.post('http://localhost:5005/model/parse', json=payload, headers=headers)\n",
    "response.json()"
   ]
  },
  {
   "cell_type": "code",
   "execution_count": null,
   "id": "5770b655-0470-4613-95e5-ab682bc48a9c",
   "metadata": {},
   "outputs": [],
   "source": []
  },
  {
   "cell_type": "code",
   "execution_count": null,
   "id": "227fc841-5d13-4730-b793-eab8141d3c09",
   "metadata": {},
   "outputs": [],
   "source": []
  }
 ],
 "metadata": {
  "kernelspec": {
   "display_name": "Python 3 (ipykernel)",
   "language": "python",
   "name": "python3"
  },
  "language_info": {
   "codemirror_mode": {
    "name": "ipython",
    "version": 3
   },
   "file_extension": ".py",
   "mimetype": "text/x-python",
   "name": "python",
   "nbconvert_exporter": "python",
   "pygments_lexer": "ipython3",
   "version": "3.10.6"
  }
 },
 "nbformat": 4,
 "nbformat_minor": 5
}
