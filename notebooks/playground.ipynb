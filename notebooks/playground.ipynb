{
 "cells": [
  {
   "cell_type": "markdown",
   "id": "c7167a5a-8ecb-4e68-b5ab-48f4d8948680",
   "metadata": {
    "execution": {
     "iopub.execute_input": "2024-01-22T16:09:32.961531Z",
     "iopub.status.busy": "2024-01-22T16:09:32.961000Z",
     "iopub.status.idle": "2024-01-22T16:09:32.963371Z",
     "shell.execute_reply": "2024-01-22T16:09:32.962935Z",
     "shell.execute_reply.started": "2024-01-22T16:09:32.961514Z"
    }
   },
   "source": [
    "# Giskard Robot playground\n",
    "\n",
    "## 1. Parameters and Helper function"
   ]
  },
  {
   "cell_type": "code",
   "execution_count": 2,
   "id": "39ed7604-0b98-4128-9029-81181f4485d5",
   "metadata": {
    "execution": {
     "iopub.execute_input": "2024-01-23T12:54:43.323019Z",
     "iopub.status.busy": "2024-01-23T12:54:43.322848Z",
     "iopub.status.idle": "2024-01-23T12:54:43.556987Z",
     "shell.execute_reply": "2024-01-23T12:54:43.556574Z",
     "shell.execute_reply.started": "2024-01-23T12:54:43.323006Z"
    },
    "jupyter": {
     "source_hidden": true
    }
   },
   "outputs": [],
   "source": [
    "import os\n",
    "import subprocess\n",
    "import rospy\n",
    "from ipywidgets import Button, Layout, GridBox, Box\n",
    "from IPython.display import display, Markdown, IFrame\n",
    "from sidecar import Sidecar\n",
    "\n",
    "LAUNCH_FILE_DIR = os.path.abspath(os.path.join(os.getcwd(), \"../launch\"))\n",
    "SIDECAR = None\n",
    "LAUNCH_PROCESS = None\n",
    "\n",
    "try:\n",
    "    RIVZWEB = IFrame(src=rospy.get_param('/rvizweb/jupyter_proxy_url'), width='100%', height='100%')\n",
    "except Exception as e:\n",
    "    RIVZWEB = None\n",
    "\n",
    "try:\n",
    "    HAS_DISPLAY = 'true' if os.environ['DISPLAY'] != ':100' else 'false'\n",
    "except KeyError:\n",
    "    HAS_DISPLAY = 'false'\n",
    "\n",
    "def open_rvizweb():\n",
    "    global SIDECAR\n",
    "    if SIDECAR is not None:\n",
    "        SIDECAR.close()\n",
    "    if RIVZWEB is not None:\n",
    "        SIDECAR = Sidecar(title='RVIZWEB', anchor='right')\n",
    "        with SIDECAR:\n",
    "            display(RIVZWEB)\n",
    "\n",
    "def launch_robot(robot):\n",
    "    global LAUNCH_PROCESS\n",
    "    if LAUNCH_PROCESS is not None:\n",
    "        LAUNCH_PROCESS.terminate()\n",
    "        LAUNCH_PROCESS.wait()\n",
    "    launchfile = os.path.join(LAUNCH_FILE_DIR, f\"{robot}_standalone.launch\")\n",
    "    command = f\"roslaunch {launchfile} gui:={HAS_DISPLAY}\"\n",
    "    LAUNCH_PROCESS = subprocess.Popen(['/bin/bash', '-c', command],\n",
    "        stdout=subprocess.DEVNULL,\n",
    "        stderr=subprocess.DEVNULL, shell=False)\n",
    "    open_rvizweb()\n",
    "\n",
    "def create_button(name):\n",
    "    btn = Button(\n",
    "        description=name.upper(),\n",
    "        layout=Layout(width='auto', height='50px'),\n",
    "        style={'font_size':'1rem'},\n",
    "        tooltip=f\"Launch robot: {name}\"\n",
    "    )\n",
    "    btn.on_click(lambda b: launch_robot(name))\n",
    "    return btn"
   ]
  },
  {
   "cell_type": "markdown",
   "id": "601a8650-95c1-4f34-92ea-a2b9d3ae2929",
   "metadata": {},
   "source": [
    "## 2.Launch a robot\n",
    ">Note: The launch process will run in foreground and block\n",
    "the execution of the the following code cells!"
   ]
  },
  {
   "cell_type": "code",
   "execution_count": 3,
   "id": "b75bda2c-f8b9-449e-a22a-2f42bb58a667",
   "metadata": {
    "execution": {
     "iopub.execute_input": "2024-01-23T12:54:44.259647Z",
     "iopub.status.busy": "2024-01-23T12:54:44.259431Z",
     "iopub.status.idle": "2024-01-23T12:54:44.277386Z",
     "shell.execute_reply": "2024-01-23T12:54:44.277063Z",
     "shell.execute_reply.started": "2024-01-23T12:54:44.259632Z"
    },
    "jupyter": {
     "source_hidden": true
    }
   },
   "outputs": [
    {
     "name": "stdout",
     "output_type": "stream",
     "text": [
      "Click the buttons to launch a robot.\n"
     ]
    },
    {
     "data": {
      "application/vnd.jupyter.widget-view+json": {
       "model_id": "fe4ddb15affd4eb2ad4a1f525f3ea61d",
       "version_major": 2,
       "version_minor": 0
      },
      "text/plain": [
       "GridBox(children=(Button(description='PR2', layout=Layout(height='50px', width='auto'), style=ButtonStyle(font…"
      ]
     },
     "metadata": {},
     "output_type": "display_data"
    }
   ],
   "source": [
    "robot_list = ['pr2', 'tiago', 'hsr', 'donbot', 'tracy', 'boxy', 'stretch', 'armar']\n",
    "button_list = [create_button(robot) for robot in robot_list]\n",
    "print('Click the buttons to launch a robot.')\n",
    "display(GridBox(button_list, layout=Layout(grid_template_columns=\"repeat(4, 25%)\")))"
   ]
  },
  {
   "cell_type": "markdown",
   "id": "edd34349-1fdb-4d62-bcb2-fe1ab30b6b63",
   "metadata": {},
   "source": [
    "## 3. Control the robot with the Giskard Python Interface\n",
    "Source: https://github.com/SemRoCo/giskardpy/wiki/Old-Python-Interface"
   ]
  },
  {
   "cell_type": "code",
   "execution_count": 4,
   "id": "97ef20cf-b0a8-453b-b639-606db63f68c3",
   "metadata": {
    "execution": {
     "iopub.execute_input": "2024-01-23T12:54:47.138262Z",
     "iopub.status.busy": "2024-01-23T12:54:47.138032Z",
     "iopub.status.idle": "2024-01-23T12:54:47.600771Z",
     "shell.execute_reply": "2024-01-23T12:54:47.600338Z",
     "shell.execute_reply.started": "2024-01-23T12:54:47.138248Z"
    },
    "scrolled": true
   },
   "outputs": [],
   "source": [
    "from giskardpy.python_interface import GiskardWrapper"
   ]
  },
  {
   "cell_type": "code",
   "execution_count": 6,
   "id": "3ee67697-f3d9-4db3-a888-51065fdcb47d",
   "metadata": {
    "execution": {
     "iopub.execute_input": "2024-01-23T12:55:07.625820Z",
     "iopub.status.busy": "2024-01-23T12:55:07.625594Z",
     "iopub.status.idle": "2024-01-23T12:55:07.743274Z",
     "shell.execute_reply": "2024-01-23T12:55:07.742780Z",
     "shell.execute_reply.started": "2024-01-23T12:55:07.625805Z"
    }
   },
   "outputs": [
    {
     "ename": "ROSInitException",
     "evalue": "time is not initialized. Have you called init_node()?",
     "output_type": "error",
     "traceback": [
      "\u001b[0;31m---------------------------------------------------------------------------\u001b[0m",
      "\u001b[0;31mROSInitException\u001b[0m                          Traceback (most recent call last)",
      "Cell \u001b[0;32mIn [6], line 1\u001b[0m\n\u001b[0;32m----> 1\u001b[0m giskard_wrapper \u001b[38;5;241m=\u001b[39m \u001b[43mGiskardWrapper\u001b[49m\u001b[43m(\u001b[49m\u001b[43m)\u001b[49m\n\u001b[1;32m      2\u001b[0m giskard_wrapper\u001b[38;5;241m.\u001b[39mset_joint_goal({\u001b[38;5;124m'\u001b[39m\u001b[38;5;124mtorso_lift_joint\u001b[39m\u001b[38;5;124m'\u001b[39m:\u001b[38;5;241m0.2\u001b[39m})\n\u001b[1;32m      3\u001b[0m giskard_wrapper\u001b[38;5;241m.\u001b[39mset_cart_goal(\u001b[38;5;124m'\u001b[39m\u001b[38;5;124mtorso_lift_link\u001b[39m\u001b[38;5;124m'\u001b[39m, \u001b[38;5;124m'\u001b[39m\u001b[38;5;124mr_gripper_tool_frame\u001b[39m\u001b[38;5;124m'\u001b[39m, PoseStamped())\n",
      "File \u001b[0;32m~/workspace/ros/src/giskardpy/src/giskardpy/python_interface.py:42\u001b[0m, in \u001b[0;36mGiskardWrapper.__init__\u001b[0;34m(self, node_name)\u001b[0m\n\u001b[1;32m     40\u001b[0m     \u001b[38;5;28mself\u001b[39m\u001b[38;5;241m.\u001b[39mdye_group_srv \u001b[38;5;241m=\u001b[39m rospy\u001b[38;5;241m.\u001b[39mServiceProxy(\u001b[38;5;124mf\u001b[39m\u001b[38;5;124m'\u001b[39m\u001b[38;5;132;01m{\u001b[39;00mnode_name\u001b[38;5;132;01m}\u001b[39;00m\u001b[38;5;124m/dye_group\u001b[39m\u001b[38;5;124m'\u001b[39m, DyeGroup)\n\u001b[1;32m     41\u001b[0m     rospy\u001b[38;5;241m.\u001b[39mwait_for_service(\u001b[38;5;124mf\u001b[39m\u001b[38;5;124m'\u001b[39m\u001b[38;5;132;01m{\u001b[39;00mnode_name\u001b[38;5;132;01m}\u001b[39;00m\u001b[38;5;124m/update_world\u001b[39m\u001b[38;5;124m'\u001b[39m)\n\u001b[0;32m---> 42\u001b[0m     \u001b[38;5;28;43mself\u001b[39;49m\u001b[38;5;241;43m.\u001b[39;49m\u001b[43m_client\u001b[49m\u001b[38;5;241;43m.\u001b[39;49m\u001b[43mwait_for_server\u001b[49m\u001b[43m(\u001b[49m\u001b[43m)\u001b[49m\n\u001b[1;32m     43\u001b[0m \u001b[38;5;28mself\u001b[39m\u001b[38;5;241m.\u001b[39mcollisions \u001b[38;5;241m=\u001b[39m []\n\u001b[1;32m     44\u001b[0m \u001b[38;5;28mself\u001b[39m\u001b[38;5;241m.\u001b[39mclear_cmds()\n",
      "File \u001b[0;32m/opt/ros/noetic/lib/python3/dist-packages/actionlib/simple_action_client.py:67\u001b[0m, in \u001b[0;36mSimpleActionClient.wait_for_server\u001b[0;34m(self, timeout)\u001b[0m\n\u001b[1;32m     66\u001b[0m \u001b[38;5;28;01mdef\u001b[39;00m \u001b[38;5;21mwait_for_server\u001b[39m(\u001b[38;5;28mself\u001b[39m, timeout\u001b[38;5;241m=\u001b[39mrospy\u001b[38;5;241m.\u001b[39mDuration()):\n\u001b[0;32m---> 67\u001b[0m     \u001b[38;5;28;01mreturn\u001b[39;00m \u001b[38;5;28;43mself\u001b[39;49m\u001b[38;5;241;43m.\u001b[39;49m\u001b[43maction_client\u001b[49m\u001b[38;5;241;43m.\u001b[39;49m\u001b[43mwait_for_server\u001b[49m\u001b[43m(\u001b[49m\u001b[43mtimeout\u001b[49m\u001b[43m)\u001b[49m\n",
      "File \u001b[0;32m/opt/ros/noetic/lib/python3/dist-packages/actionlib/action_client.py:592\u001b[0m, in \u001b[0;36mActionClient.wait_for_server\u001b[0;34m(self, timeout)\u001b[0m\n\u001b[1;32m    590\u001b[0m \u001b[38;5;28;01mdef\u001b[39;00m \u001b[38;5;21mwait_for_server\u001b[39m(\u001b[38;5;28mself\u001b[39m, timeout\u001b[38;5;241m=\u001b[39mrospy\u001b[38;5;241m.\u001b[39mDuration(\u001b[38;5;241m0.0\u001b[39m)):\n\u001b[1;32m    591\u001b[0m     started \u001b[38;5;241m=\u001b[39m \u001b[38;5;28;01mFalse\u001b[39;00m\n\u001b[0;32m--> 592\u001b[0m     timeout_time \u001b[38;5;241m=\u001b[39m \u001b[43mrospy\u001b[49m\u001b[38;5;241;43m.\u001b[39;49m\u001b[43mget_rostime\u001b[49m\u001b[43m(\u001b[49m\u001b[43m)\u001b[49m \u001b[38;5;241m+\u001b[39m timeout\n\u001b[1;32m    593\u001b[0m     \u001b[38;5;28;01mwhile\u001b[39;00m \u001b[38;5;129;01mnot\u001b[39;00m rospy\u001b[38;5;241m.\u001b[39mis_shutdown():\n\u001b[1;32m    594\u001b[0m         \u001b[38;5;28;01mif\u001b[39;00m \u001b[38;5;28mself\u001b[39m\u001b[38;5;241m.\u001b[39mlast_status_msg:\n",
      "File \u001b[0;32m/opt/ros/noetic/lib/python3/dist-packages/rospy/rostime.py:190\u001b[0m, in \u001b[0;36mget_rostime\u001b[0;34m()\u001b[0m\n\u001b[1;32m    184\u001b[0m \u001b[38;5;124;03m\"\"\"\u001b[39;00m\n\u001b[1;32m    185\u001b[0m \u001b[38;5;124;03mGet the current time as a L{Time} object    \u001b[39;00m\n\u001b[1;32m    186\u001b[0m \u001b[38;5;124;03m@return: current time as a L{rospy.Time} object\u001b[39;00m\n\u001b[1;32m    187\u001b[0m \u001b[38;5;124;03m@rtype: L{Time}\u001b[39;00m\n\u001b[1;32m    188\u001b[0m \u001b[38;5;124;03m\"\"\"\u001b[39;00m\n\u001b[1;32m    189\u001b[0m \u001b[38;5;28;01mif\u001b[39;00m \u001b[38;5;129;01mnot\u001b[39;00m _rostime_initialized:\n\u001b[0;32m--> 190\u001b[0m     \u001b[38;5;28;01mraise\u001b[39;00m rospy\u001b[38;5;241m.\u001b[39mexceptions\u001b[38;5;241m.\u001b[39mROSInitException(\u001b[38;5;124m\"\u001b[39m\u001b[38;5;124mtime is not initialized. Have you called init_node()?\u001b[39m\u001b[38;5;124m\"\u001b[39m)\n\u001b[1;32m    191\u001b[0m \u001b[38;5;28;01mif\u001b[39;00m _rostime_current \u001b[38;5;129;01mis\u001b[39;00m \u001b[38;5;129;01mnot\u001b[39;00m \u001b[38;5;28;01mNone\u001b[39;00m:\n\u001b[1;32m    192\u001b[0m     \u001b[38;5;66;03m# initialize with sim time\u001b[39;00m\n\u001b[1;32m    193\u001b[0m     \u001b[38;5;28;01mreturn\u001b[39;00m _rostime_current\n",
      "\u001b[0;31mROSInitException\u001b[0m: time is not initialized. Have you called init_node()?"
     ]
    }
   ],
   "source": [
    "giskard_wrapper = GiskardWrapper()\n",
    "giskard_wrapper.set_joint_goal({'torso_lift_joint':0.2})\n",
    "giskard_wrapper.set_cart_goal('torso_lift_link', 'r_gripper_tool_frame', PoseStamped())\n",
    "giskard_wrapper.plan_and_execute(wait=True)\n",
    "giskard_wrapper.add_cmd()"
   ]
  },
  {
   "cell_type": "markdown",
   "id": "0cb4b0d6-c6bb-497b-88a5-40e1b13e9627",
   "metadata": {},
   "source": [
    "## Todos:\n",
    "- Launch robot in a background subprocess. \n",
    "- Add Giskard Python Interface demo\n",
    "- Blockly control\n",
    "- Fix boxy arms are not visible in Rvizweb \n",
    "- Rvizweb scene refresh and sidecar display\n",
    "- Armar description not found"
   ]
  },
  {
   "cell_type": "code",
   "execution_count": 6,
   "id": "f13b5fba-28ea-488b-9c30-eed8d10fb764",
   "metadata": {
    "execution": {
     "iopub.execute_input": "2024-01-23T11:37:38.134928Z",
     "iopub.status.busy": "2024-01-23T11:37:38.134649Z",
     "iopub.status.idle": "2024-01-23T11:37:38.320511Z",
     "shell.execute_reply": "2024-01-23T11:37:38.320017Z",
     "shell.execute_reply.started": "2024-01-23T11:37:38.134906Z"
    }
   },
   "outputs": [
    {
     "name": "stdout",
     "output_type": "stream",
     "text": [
      "Tue 23 Jan 2024 11:37:38 AM UTC\n",
      "[INFO] [1706009772.332119]: [/giskard_interactive_marker]: got interactive goal update\n",
      "[INFO] [1706009782.083323]: [/giskard_interactive_marker]: got interactive goal update\n",
      "[/unnamed]: Found these qp solvers: ['qpalm']\n",
      "[INFO] [1706009733.900584]: [/giskard]: Using betterpybullet for collision checking.\n",
      "[INFO] [1706009734.012288]: [/giskard]: loading self collision matrix: /home/jovyan/workspace/ros/src/giskardpy/self_collision_matrices/iai/boxy_description.srdf\n",
      "[INFO] [1706009734.076724]: [/giskard]: Loaded self collision matrix: /home/jovyan/workspace/ros/src/giskardpy/self_collision_matrices/iai/boxy_description.srdf\n",
      "[INFO] [1706009734.107881]: [/giskard]: The following joints are non-fixed according to the urdf, but not flagged as controlled: {'boxy_description/right_gripper_joint', 'boxy_description/left_gripper_base_gripper_left_joint', 'boxy_description/left_gripper_joint', 'boxy_description/right_gripper_base_gripper_left_joint'}.\n",
      "[INFO] [1706009734.164925]: [/giskard]: giskard is ready\n",
      "[INFO] [1706009772.367015]: [/giskard]: Received new goal.\n",
      "[INFO] [1706009772.368413]: [/giskard]: Goal has 1 move commands(s).\n",
      "[INFO] [1706009772.369121]: [/giskard]: Planning move commands #1/1.\n",
      "[INFO] [1706009772.369705]: [/giskard]: Parsing goal message.\n",
      "[INFO] [1706009772.370217]: [/giskard]: Adding constraint of type: 'CartesianPoseStraight'\n",
      "[INFO] [1706009772.374233]: [/giskard]: Done parsing goal message.\n",
      "[INFO] [1706009772.388340]: [/giskard]: Using QP Solver 'qpalm'\n",
      "[INFO] [1706009772.389335]: [/giskard]: Prediction horizon: '9'\n",
      "[INFO] [1706009772.390124]: [/giskard]: Creating controller\n",
      "[INFO] [1706009772.570815]: [/giskard]: Done compiling controller:\n",
      "[INFO] [1706009772.571743]: [/giskard]:   #free variables: 198\n",
      "[INFO] [1706009772.572303]: [/giskard]:   #equality constraints: 142\n",
      "[INFO] [1706009772.572873]: [/giskard]:   #inequality constraints: 0\n",
      "[INFO] [1706009776.574430]: [/giskard]: found loop, stopped planning.\n",
      "[INFO] [1706009776.575699]: [/giskard]: found goal trajectory with length 27.550s in 4.002s\n",
      "[INFO] [1706009776.595985]: [/giskard]: Planning succeeded.\n",
      "[INFO] [1706009776.597027]: [/giskard]: ----------------Successfully executed goal.----------------\n",
      "[INFO] [1706009782.127620]: [/giskard]: Received new goal.\n",
      "[INFO] [1706009782.131166]: [/giskard]: Goal has 1 move commands(s).\n",
      "[INFO] [1706009782.132319]: [/giskard]: Planning move commands #1/1.\n",
      "[INFO] [1706009782.132953]: [/giskard]: Parsing goal message.\n",
      "[INFO] [1706009782.133487]: [/giskard]: Adding constraint of type: 'CartesianPoseStraight'\n",
      "[INFO] [1706009782.135055]: [/giskard]: Done parsing goal message.\n",
      "[INFO] [1706009782.147987]: [/giskard]: Using QP Solver 'qpalm'\n",
      "[INFO] [1706009782.149020]: [/giskard]: Prediction horizon: '9'\n",
      "[INFO] [1706009782.149618]: [/giskard]: Creating controller\n",
      "[INFO] [1706009782.337150]: [/giskard]: Done compiling controller:\n",
      "[INFO] [1706009782.338151]: [/giskard]:   #free variables: 222\n",
      "[INFO] [1706009782.338712]: [/giskard]:   #equality constraints: 159\n",
      "[INFO] [1706009782.339234]: [/giskard]:   #inequality constraints: 0\n",
      "[INFO] [1706009889.847726]: [/giskard]: giskard died\n",
      "... logging to /home/jovyan/.ros/log/f05ea25e-b9d8-11ee-bf6b-0242ac1a0002/roslaunch-aa00be2fac5b-13760.log\n",
      "Checking log directory for disk usage. This may take a while.\n",
      "Press Ctrl-C to interrupt\n",
      "Done checking log file disk usage. Usage is <1GB.\n",
      "\u001b]2;/home/jovyan/giskard_examples/launch/boxy_standalone.launch\u0007\n",
      "\u001b[1mstarted roslaunch server http://aa00be2fac5b:43453/\u001b[0m\n",
      "\n",
      "SUMMARY\n",
      "========\n",
      "\n",
      "PARAMETERS\n",
      " * /giskard_interactive_marker/enable_self_collision: True\n",
      " * /giskard_interactive_marker/interactive_marker_chains: [['boxy_descripti...\n",
      " * /robot_description: <?xml version=\"1....\n",
      " * /rosdistro: noetic\n",
      " * /rosversion: 1.16.0\n",
      " * /rvizweb/global_config: <...>\n",
      "\n",
      "NODES\n",
      "  /\n",
      "    giskard (giskardpy/boxy_standalone.py)\n",
      "    giskard_interactive_marker (giskardpy/interactive_marker.py)\n",
      "    interactive_marker_proxy (interactive_marker_proxy/proxy)\n",
      "    rviz (rviz/rviz)\n",
      "    rviz_config_publisher (rostopic/rostopic)\n",
      "\n",
      "\u001b[1mROS_MASTER_URI=http://localhost:11311\u001b[0m\n",
      "\u001b]2;/home/jovyan/giskard_examples/launch/boxy_standalone.launch http://localhost:11311\u0007\n",
      "\u001b[1mprocess[giskard-1]: started with pid [13803]\u001b[0m\n",
      "\u001b[1mprocess[giskard_interactive_marker-2]: started with pid [13804]\u001b[0m\n",
      "\u001b[1mprocess[interactive_marker_proxy-3]: started with pid [13805]\u001b[0m\n",
      "\u001b[1mprocess[rviz_config_publisher-4]: started with pid [13806]\u001b[0m\n",
      "\u001b[1mprocess[rviz-5]: started with pid [13832]\u001b[0m\n",
      "\u001b[1m[rviz_config_publisher-4] process has finished cleanly\n",
      "log file: /home/jovyan/.ros/log/f05ea25e-b9d8-11ee-bf6b-0242ac1a0002/rviz_config_publisher-4*.log\u001b[0m\n",
      "[rviz-5] killing on exit\n",
      "[interactive_marker_proxy-3] killing on exit\n",
      "[giskard_interactive_marker-2] killing on exit\n",
      "[giskard-1] killing on exit\n",
      "shutting down processing monitor...\n",
      "... shutting down processing monitor complete\n",
      "\u001b[1mdone\u001b[0m\n"
     ]
    }
   ],
   "source": [
    "!date"
   ]
  }
 ],
 "metadata": {
  "kernelspec": {
   "display_name": "Python 3 (ipykernel)",
   "language": "python",
   "name": "python3"
  },
  "language_info": {
   "codemirror_mode": {
    "name": "ipython",
    "version": 3
   },
   "file_extension": ".py",
   "mimetype": "text/x-python",
   "name": "python",
   "nbconvert_exporter": "python",
   "pygments_lexer": "ipython3",
   "version": "3.10.6"
  }
 },
 "nbformat": 4,
 "nbformat_minor": 5
}
