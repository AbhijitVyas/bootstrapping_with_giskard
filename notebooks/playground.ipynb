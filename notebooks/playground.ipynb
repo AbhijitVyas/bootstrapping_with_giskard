{
 "cells": [
  {
   "cell_type": "markdown",
   "id": "c7167a5a-8ecb-4e68-b5ab-48f4d8948680",
   "metadata": {
    "execution": {
     "iopub.execute_input": "2024-01-22T16:09:32.961531Z",
     "iopub.status.busy": "2024-01-22T16:09:32.961000Z",
     "iopub.status.idle": "2024-01-22T16:09:32.963371Z",
     "shell.execute_reply": "2024-01-22T16:09:32.962935Z",
     "shell.execute_reply.started": "2024-01-22T16:09:32.961514Z"
    }
   },
   "source": [
    "# Giskard Robot playground\n",
    "\n",
    "## 1. Parameters and Helper function"
   ]
  },
  {
   "cell_type": "code",
   "execution_count": null,
   "id": "b0c39ee6-0e7d-4b60-b232-a9a96dd3c74b",
   "metadata": {},
   "outputs": [],
   "source": [
    "import os\n",
    "import subprocess\n",
    "from ipywidgets import Button, Layout, Box\n",
    "from IPython.display import display, Markdown, IFrame\n",
    "\n",
    "LAUNCH_DIR = os.path.abspath(os.path.join(os.getcwd(), \"../launch\"))\n",
    "\n",
    "try:\n",
    "    HAS_DISPLAY = 'true' if os.environ['DISPLAY'] != ':100' else 'false'\n",
    "except KeyError:\n",
    "    HAS_DISPLAY = 'false'\n",
    "\n",
    "def launch_robot(robot):\n",
    "    launchfile = os.path.join(LAUNCH_DIR, f\"{robot}_standalone.launch\")\n",
    "    command = f\"roslaunch {launchfile} gui:={HAS_DISPLAY}\"\n",
    "    !$command\n",
    "    # return subprocess.Popen(command, shell=True)\n",
    "\n",
    "def create_button(name):\n",
    "    btn = Button(\n",
    "        description=name,\n",
    "        button_style='success',\n",
    "        tooltip=f\"Launch robot: {name}\"\n",
    "    )\n",
    "    btn.on_click(lambda b: launch_robot(name))\n",
    "    return btn\n",
    "\n",
    "ROBOT_LIST = ['pr2', 'tiago', 'hsr', 'donbot', 'tracy', 'boxy', 'stretch', 'armar']\n",
    "display(Markdown(\"## 2. Click the buttons to launch a robot!\"))\n",
    "display(Markdown(\"\"\">Note: The launch process will run in foreground and block\n",
    "the execution of the the following code cells!\"\"\"))\n",
    "display(Box([create_button(robot) for robot in ROBOT_LIST]))\n"
   ]
  },
  {
   "cell_type": "markdown",
   "id": "edd34349-1fdb-4d62-bcb2-fe1ab30b6b63",
   "metadata": {},
   "source": [
    "## 3. Control the robot with the Python Interface\n",
    "Source: https://github.com/SemRoCo/giskardpy/wiki/Old-Python-Interface"
   ]
  },
  {
   "cell_type": "code",
   "execution_count": null,
   "id": "fd6e5ecf-0489-448f-8aa9-2013ecc66749",
   "metadata": {},
   "outputs": [],
   "source": []
  },
  {
   "cell_type": "markdown",
   "id": "0cb4b0d6-c6bb-497b-88a5-40e1b13e9627",
   "metadata": {},
   "source": [
    "## Todos:\n",
    "- Launch robot in a background subprocess. \n",
    "- Add Giskard Python Interface demo\n",
    "- Blockly control\n",
    "- Fix boxy arms are not visible in Rvizweb \n",
    "- Rvizweb scene refresh and sidecar display\n",
    "- Armar description not found"
   ]
  },
  {
   "cell_type": "code",
   "execution_count": null,
   "id": "f13b5fba-28ea-488b-9c30-eed8d10fb764",
   "metadata": {},
   "outputs": [],
   "source": []
  }
 ],
 "metadata": {
  "kernelspec": {
   "display_name": "Python 3 (ipykernel)",
   "language": "python",
   "name": "python3"
  },
  "language_info": {
   "codemirror_mode": {
    "name": "ipython",
    "version": 3
   },
   "file_extension": ".py",
   "mimetype": "text/x-python",
   "name": "python",
   "nbconvert_exporter": "python",
   "pygments_lexer": "ipython3",
   "version": "3.10.6"
  }
 },
 "nbformat": 4,
 "nbformat_minor": 5
}
