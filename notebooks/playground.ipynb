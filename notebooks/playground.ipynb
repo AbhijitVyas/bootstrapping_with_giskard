{
 "cells": [
  {
   "cell_type": "markdown",
   "id": "e81d2131-8e75-4c52-8ac3-b581e6320a9a",
   "metadata": {},
   "source": [
    "# Robot playground\n",
    "\n",
    "## 1. Parameters and Helper function"
   ]
  },
  {
   "cell_type": "code",
   "execution_count": null,
   "id": "6633880e",
   "metadata": {
    "execution": {
     "iopub.execute_input": "2024-01-22T13:36:01.621684Z",
     "iopub.status.busy": "2024-01-22T13:36:01.621395Z",
     "iopub.status.idle": "2024-01-22T13:36:01.670489Z",
     "shell.execute_reply": "2024-01-22T13:36:01.670104Z",
     "shell.execute_reply.started": "2024-01-22T13:36:01.621657Z"
    }
   },
   "outputs": [],
   "source": [
    "import os\n",
    "import subprocess\n",
    "import ipywidgets as widgets\n",
    "from IPython.display import display, Markdown\n",
    "\n",
    "LAUNCH_DIR = os.path.abspath(os.path.join(os.getcwd(), \"../launch\"))\n",
    "\n",
    "try:\n",
    "    HAS_DISPLAY = 'true' if os.environ['DISPLAY'] != ':100' else 'false'\n",
    "except KeyError:\n",
    "    HAS_DISPLAY = 'false'\n",
    "\n",
    "def launch_robot(robot):\n",
    "    launchfile = os.path.join(LAUNCH_DIR, f\"{robot}_standalone.launch\")\n",
    "    command = f\"roslaunch {launchfile} gui:={HAS_DISPLAY}\"\n",
    "    # print(command)\n",
    "    !$command\n",
    "    # return subprocess.Popen(command, shell=True)"
   ]
  },
  {
   "cell_type": "markdown",
   "id": "0197e86d-f397-45a6-9eb0-7a1b315bb70c",
   "metadata": {},
   "source": [
    "## 2. Launch one of the following robot\n",
    "\n",
    ">Note: The launch process will run in foreground and block the execution of the the following code cells!"
   ]
  },
  {
   "cell_type": "code",
   "execution_count": null,
   "id": "cfbcf166",
   "metadata": {
    "execution": {
     "iopub.execute_input": "2024-01-22T13:39:32.165568Z",
     "iopub.status.busy": "2024-01-22T13:39:32.165186Z",
     "iopub.status.idle": "2024-01-22T13:39:32.183245Z",
     "shell.execute_reply": "2024-01-22T13:39:32.182865Z",
     "shell.execute_reply.started": "2024-01-22T13:39:32.165533Z"
    }
   },
   "outputs": [],
   "source": [
    "ROBOT_LIST = ['pr2', 'tiago', 'hsr', 'donbot', 'tracy', 'boxy', 'stretch', 'armar']\n",
    "buttons = [widgets.Button(description=robot) for robot in ROBOT_LIST]\n",
    "\n",
    "for button in buttons:\n",
    "    button.on_click(lambda b, robot=button.description: launch_robot(robot))\n",
    "\n",
    "button_box = widgets.HBox(buttons)\n",
    "display(Markdown(\"## Click the buttons to launch a robot!\"))\n",
    "display(button_box)"
   ]
  },
  {
   "cell_type": "markdown",
   "id": "0cb4b0d6-c6bb-497b-88a5-40e1b13e9627",
   "metadata": {},
   "source": [
    "## Todos:\n",
    "- Launch robot in a background subprocess. \n",
    "- Add Giskard Python Interface demo\n",
    "- Blockly control\n",
    "- Fix boxy arms are not visible in Rvizweb\n",
    "- \n",
    "- TF info is not init for some robots (tiago, donbot, stretch under giskard:devel)\n",
    "- Rvizweb scene refresh"
   ]
  },
  {
   "cell_type": "code",
   "execution_count": null,
   "id": "f13b5fba-28ea-488b-9c30-eed8d10fb764",
   "metadata": {},
   "outputs": [],
   "source": []
  }
 ],
 "metadata": {
  "kernelspec": {
   "display_name": "Python 3 (ipykernel)",
   "language": "python",
   "name": "python3"
  },
  "language_info": {
   "codemirror_mode": {
    "name": "ipython",
    "version": 3
   },
   "file_extension": ".py",
   "mimetype": "text/x-python",
   "name": "python",
   "nbconvert_exporter": "python",
   "pygments_lexer": "ipython3",
   "version": "3.10.6"
  }
 },
 "nbformat": 4,
 "nbformat_minor": 5
}
