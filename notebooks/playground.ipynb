{
 "cells": [
  {
   "cell_type": "markdown",
   "id": "e81d2131-8e75-4c52-8ac3-b581e6320a9a",
   "metadata": {},
   "source": [
    "# Robot playground\n",
    "\n",
    "## 1. Parameters and Helper function"
   ]
  },
  {
   "cell_type": "code",
   "execution_count": null,
   "id": "6633880e",
   "metadata": {},
   "outputs": [],
   "source": [
    "import os\n",
    "\n",
    "LAUNCH_DIR = os.path.abspath(os.path.join(os.getcwd(), \"../launch\"))\n",
    "\n",
    "try:\n",
    "    HAS_DISPLAY = 'true' if os.environ['DISPLAY'] != ':100' else 'false'\n",
    "except KeyError:\n",
    "    HAS_DISPLAY = 'false'\n",
    "\n",
    "def getRobotLaunchfile(robot):\n",
    "    return os.path.join(LAUNCH_DIR, f\"{robot}_standalone.launch\")"
   ]
  },
  {
   "cell_type": "markdown",
   "id": "0197e86d-f397-45a6-9eb0-7a1b315bb70c",
   "metadata": {},
   "source": [
    "## 2. Launch one of the following robot\n",
    "\n",
    ">Note: The launch process will run in foreground and block the execution of the the following code cells!"
   ]
  },
  {
   "cell_type": "markdown",
   "id": "19395814-9cb6-40df-8f63-50aa5ce5456d",
   "metadata": {},
   "source": [
    "### PR2"
   ]
  },
  {
   "cell_type": "code",
   "execution_count": null,
   "id": "de52925c-7c43-4140-a269-4351a2684fd0",
   "metadata": {
    "scrolled": true
   },
   "outputs": [],
   "source": [
    "launchfile = getRobotLaunchfile('pr2')\n",
    "!roslaunch $launchfile gui:=$HAS_DISPLAY"
   ]
  },
  {
   "cell_type": "markdown",
   "id": "9a6a48ac-3c75-4abc-aebd-89d69d51bfe5",
   "metadata": {},
   "source": [
    "### Tiago"
   ]
  },
  {
   "cell_type": "code",
   "execution_count": null,
   "id": "8037f40f-db81-4c8a-8cbe-7c3094f1c35a",
   "metadata": {
    "scrolled": true
   },
   "outputs": [],
   "source": [
    "# !roslaunch giskardpy giskardpy_tiago_standalone.launch\n",
    "\n",
    "launchfile = getRobotLaunchfile('tiago')\n",
    "!roslaunch $launchfile gui:=$HAS_DISPLAY"
   ]
  },
  {
   "cell_type": "markdown",
   "id": "1a7368aa-1abc-4b6e-90c3-3f2caeecf18a",
   "metadata": {},
   "source": [
    "### HSR"
   ]
  },
  {
   "cell_type": "code",
   "execution_count": null,
   "id": "4fc2fe2b-5959-42ff-8022-09921cc9c030",
   "metadata": {
    "scrolled": true
   },
   "outputs": [],
   "source": [
    "# !roslaunch giskardpy giskardpy_hsr_standalone.launch\n",
    "\n",
    "launchfile = getRobotLaunchfile('hsr')\n",
    "!roslaunch $launchfile gui:=$HAS_DISPLAY"
   ]
  },
  {
   "cell_type": "markdown",
   "id": "91cbdc73-7956-4f93-a8b9-7a6ba30301fa",
   "metadata": {},
   "source": [
    "### Donbot \n",
    "issue: 3d mesh"
   ]
  },
  {
   "cell_type": "code",
   "execution_count": null,
   "id": "56ee20da-26a2-4126-ba4b-23a8fe133433",
   "metadata": {
    "scrolled": true,
    "tags": []
   },
   "outputs": [],
   "source": [
    "launchfile = getRobotLaunchfile('donbot')\n",
    "!roslaunch $launchfile gui:=$HAS_DISPLAY"
   ]
  },
  {
   "cell_type": "markdown",
   "id": "d5a18bea-9f22-4bc6-b3f1-6383244545d7",
   "metadata": {},
   "source": [
    "### Boxy \n",
    "issue: 3d mesh"
   ]
  },
  {
   "cell_type": "code",
   "execution_count": null,
   "id": "4683586b-24f4-483b-8b8e-a60debc062ca",
   "metadata": {
    "scrolled": true,
    "tags": []
   },
   "outputs": [],
   "source": [
    "launchfile = getRobotLaunchfile('boxy')\n",
    "!roslaunch $launchfile gui:=$HAS_DISPLAY"
   ]
  },
  {
   "cell_type": "markdown",
   "id": "ee2b9215-0e44-4a7f-b8c4-8f98559d6651",
   "metadata": {},
   "source": [
    "### Tracy\n",
    "Issue: different fixedFrame"
   ]
  },
  {
   "cell_type": "code",
   "execution_count": null,
   "id": "99060a95-65b5-43f4-8595-e30a7359f1d5",
   "metadata": {
    "scrolled": true
   },
   "outputs": [],
   "source": [
    "# !roslaunch giskardpy giskardpy_tracy_standalone.launch\n",
    "\n",
    "launchfile = getRobotLaunchfile('tracy')\n",
    "!roslaunch $launchfile gui:=$HAS_DISPLAY"
   ]
  },
  {
   "cell_type": "markdown",
   "id": "938d18b9-cb61-4cd0-a27a-b486b860a54f",
   "metadata": {},
   "source": [
    "### Armar \n",
    "Issue: Description Mismatch, self_collision_matrices missing"
   ]
  },
  {
   "cell_type": "code",
   "execution_count": null,
   "id": "7a1a0cd8-10c3-48a0-80f7-742ad6be6137",
   "metadata": {
    "tags": []
   },
   "outputs": [],
   "source": [
    "# !roslaunch giskardpy giskardpy_armar.launch\n",
    "\n",
    "launchfile = getRobotLaunchfile('armar')\n",
    "!roslaunch $launchfile gui:=$HAS_DISPLAY"
   ]
  },
  {
   "cell_type": "code",
   "execution_count": null,
   "id": "189fb21c",
   "metadata": {},
   "outputs": [],
   "source": [
    "# %%script bash --bg --out script_out\n",
    "# import subprocess\n",
    "# launchfile = getRobotLaunchfile('pr2')\n",
    "# command = f\"roslaunch {launchfile}\"\n",
    "# process = subprocess.Popen(command, shell=True)"
   ]
  }
 ],
 "metadata": {
  "kernelspec": {
   "display_name": "Python 3 (ipykernel)",
   "language": "python",
   "name": "python3"
  },
  "language_info": {
   "codemirror_mode": {
    "name": "ipython",
    "version": 3
   },
   "file_extension": ".py",
   "mimetype": "text/x-python",
   "name": "python",
   "nbconvert_exporter": "python",
   "pygments_lexer": "ipython3",
   "version": "3.10.6"
  }
 },
 "nbformat": 4,
 "nbformat_minor": 5
}
